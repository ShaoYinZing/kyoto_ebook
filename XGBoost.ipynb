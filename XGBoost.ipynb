{
 "cells": [
  {
   "cell_type": "code",
   "execution_count": 1,
   "metadata": {},
   "outputs": [
    {
     "name": "stdout",
     "output_type": "stream",
     "text": [
      "Requirement already satisfied: pandas in /usr/local/lib/python3.4/dist-packages (0.22.0)\n",
      "Requirement already satisfied: python-dateutil>=2 in /usr/local/lib/python3.4/dist-packages (from pandas) (2.7.3)\n",
      "Requirement already satisfied: numpy>=1.9.0 in /usr/local/lib/python3.4/dist-packages (from pandas) (1.15.0)\n",
      "Requirement already satisfied: pytz>=2011k in /usr/local/lib/python3.4/dist-packages (from pandas) (2018.5)\n",
      "Requirement already satisfied: six>=1.5 in /usr/local/lib/python3.4/dist-packages (from python-dateutil>=2->pandas) (1.10.0)\n",
      "Requirement already satisfied: xgboost in /usr/local/lib/python3.4/dist-packages (0.72.1)\n",
      "Requirement already satisfied: numpy in /usr/local/lib/python3.4/dist-packages (from xgboost) (1.15.0)\n",
      "Requirement already satisfied: scipy in /usr/local/lib/python3.4/dist-packages (from xgboost) (1.1.0)\n",
      "Requirement already satisfied: sklearn in /usr/local/lib/python3.4/dist-packages (0.0)\n",
      "Requirement already satisfied: scikit-learn in /usr/local/lib/python3.4/dist-packages (from sklearn) (0.19.2)\n",
      "Requirement already satisfied: six==1.10 in /usr/local/lib/python3.4/dist-packages (1.10.0)\n",
      "Requirement already satisfied: matplotlib in /usr/local/lib/python3.4/dist-packages (2.2.2)\n",
      "Requirement already satisfied: cycler>=0.10 in /usr/local/lib/python3.4/dist-packages (from matplotlib) (0.10.0)\n",
      "Requirement already satisfied: six>=1.10 in /usr/local/lib/python3.4/dist-packages (from matplotlib) (1.10.0)\n",
      "Requirement already satisfied: kiwisolver>=1.0.1 in /usr/local/lib/python3.4/dist-packages (from matplotlib) (1.0.1)\n",
      "Requirement already satisfied: python-dateutil>=2.1 in /usr/local/lib/python3.4/dist-packages (from matplotlib) (2.7.3)\n",
      "Requirement already satisfied: pyparsing!=2.0.4,!=2.1.2,!=2.1.6,>=2.0.1 in /usr/lib/python3/dist-packages (from matplotlib) (2.0.1)\n",
      "Requirement already satisfied: pytz in /usr/local/lib/python3.4/dist-packages (from matplotlib) (2018.5)\n",
      "Requirement already satisfied: numpy>=1.7.1 in /usr/local/lib/python3.4/dist-packages (from matplotlib) (1.15.0)\n",
      "Requirement already satisfied: setuptools in /usr/local/lib/python3.4/dist-packages (from kiwisolver>=1.0.1->matplotlib) (40.0.0)\n",
      "Requirement already satisfied: statsmodels in /usr/local/lib/python3.4/dist-packages (0.9.0)\n",
      "Requirement already satisfied: patsy in /usr/local/lib/python3.4/dist-packages (from statsmodels) (0.5.0)\n",
      "Requirement already satisfied: six in /usr/local/lib/python3.4/dist-packages (from patsy->statsmodels) (1.10.0)\n",
      "Requirement already satisfied: numpy>=1.4 in /usr/local/lib/python3.4/dist-packages (from patsy->statsmodels) (1.15.0)\n"
     ]
    }
   ],
   "source": [
    "!pip3 install pandas\n",
    "!pip3 install xgboost\n",
    "!pip3 install sklearn\n",
    "!pip3 install six==1.10\n",
    "!pip3 install matplotlib\n",
    "!pip3 install statsmodels"
   ]
  },
  {
   "cell_type": "code",
   "execution_count": 2,
   "metadata": {},
   "outputs": [
    {
     "name": "stderr",
     "output_type": "stream",
     "text": [
      "/usr/lib/python3.4/importlib/_bootstrap.py:321: RuntimeWarning: numpy.dtype size changed, may indicate binary incompatibility. Expected 96, got 88\n",
      "  return f(*args, **kwds)\n",
      "/usr/lib/python3.4/importlib/_bootstrap.py:321: RuntimeWarning: numpy.dtype size changed, may indicate binary incompatibility. Expected 96, got 88\n",
      "  return f(*args, **kwds)\n",
      "/usr/lib/python3.4/importlib/_bootstrap.py:321: RuntimeWarning: numpy.dtype size changed, may indicate binary incompatibility. Expected 96, got 88\n",
      "  return f(*args, **kwds)\n",
      "/usr/lib/python3.4/importlib/_bootstrap.py:321: RuntimeWarning: numpy.dtype size changed, may indicate binary incompatibility. Expected 96, got 88\n",
      "  return f(*args, **kwds)\n",
      "/usr/lib/python3.4/importlib/_bootstrap.py:321: RuntimeWarning: numpy.dtype size changed, may indicate binary incompatibility. Expected 96, got 88\n",
      "  return f(*args, **kwds)\n",
      "/usr/local/lib/python3.4/dist-packages/sklearn/cross_validation.py:41: DeprecationWarning: This module was deprecated in version 0.18 in favor of the model_selection module into which all the refactored classes and functions are moved. Also note that the interface of the new CV iterators are different from that of this module. This module will be removed in 0.20.\n",
      "  \"This module will be removed in 0.20.\", DeprecationWarning)\n",
      "/usr/local/lib/python3.4/dist-packages/sklearn/grid_search.py:42: DeprecationWarning: This module was deprecated in version 0.18 in favor of the model_selection module into which all the refactored classes and functions are moved. This module will be removed in 0.20.\n",
      "  DeprecationWarning)\n",
      "/usr/lib/python3.4/importlib/_bootstrap.py:321: RuntimeWarning: numpy.dtype size changed, may indicate binary incompatibility. Expected 96, got 88\n",
      "  return f(*args, **kwds)\n"
     ]
    }
   ],
   "source": [
    "import pandas as pd\n",
    "import numpy as np\n",
    "import xgboost as xgb\n",
    "import math\n",
    "\n",
    "from xgboost.sklearn import XGBClassifier\n",
    "from xgboost.sklearn import XGBRegressor\n",
    "from xgboost import plot_tree\n",
    "\n",
    "#from graphviz import Digraph\n",
    "\n",
    "from sklearn import cross_validation, metrics\n",
    "from sklearn import preprocessing\n",
    "from sklearn.grid_search import GridSearchCV\n",
    "from sklearn.metrics import mean_squared_error\n",
    "from sklearn.manifold import TSNE\n",
    "from sklearn.model_selection import train_test_split\n",
    "from sklearn.model_selection import cross_val_score\n",
    "from sklearn.model_selection import StratifiedKFold\n",
    "from sklearn.svm import SVR\n",
    "from sklearn.neural_network import MLPRegressor\n",
    "from sklearn.decomposition import PCA\n",
    "from sklearn.ensemble import RandomForestRegressor\n",
    "\n",
    "import statsmodels.api as sm\n",
    "\n",
    "from math import sqrt\n",
    "\n",
    "%matplotlib inline\n",
    "import numpy as np\n",
    "import matplotlib\n",
    "import matplotlib.pyplot as plt"
   ]
  },
  {
   "cell_type": "markdown",
   "metadata": {},
   "source": [
    "# Load Data"
   ]
  },
  {
   "cell_type": "code",
   "execution_count": 3,
   "metadata": {},
   "outputs": [
    {
     "data": {
      "text/html": [
       "<div>\n",
       "<style scoped>\n",
       "    .dataframe tbody tr th:only-of-type {\n",
       "        vertical-align: middle;\n",
       "    }\n",
       "\n",
       "    .dataframe tbody tr th {\n",
       "        vertical-align: top;\n",
       "    }\n",
       "\n",
       "    .dataframe thead th {\n",
       "        text-align: right;\n",
       "    }\n",
       "</style>\n",
       "<table border=\"1\" class=\"dataframe\">\n",
       "  <thead>\n",
       "    <tr style=\"text-align: right;\">\n",
       "      <th></th>\n",
       "      <th>userid</th>\n",
       "      <th>score</th>\n",
       "    </tr>\n",
       "  </thead>\n",
       "  <tbody>\n",
       "    <tr>\n",
       "      <th>0</th>\n",
       "      <td>ds101</td>\n",
       "      <td>80</td>\n",
       "    </tr>\n",
       "    <tr>\n",
       "      <th>1</th>\n",
       "      <td>ds102</td>\n",
       "      <td>80</td>\n",
       "    </tr>\n",
       "    <tr>\n",
       "      <th>2</th>\n",
       "      <td>ds103</td>\n",
       "      <td>60</td>\n",
       "    </tr>\n",
       "    <tr>\n",
       "      <th>3</th>\n",
       "      <td>ds104</td>\n",
       "      <td>50</td>\n",
       "    </tr>\n",
       "    <tr>\n",
       "      <th>4</th>\n",
       "      <td>ds105</td>\n",
       "      <td>100</td>\n",
       "    </tr>\n",
       "  </tbody>\n",
       "</table>\n",
       "</div>"
      ],
      "text/plain": [
       "  userid  score\n",
       "0  ds101     80\n",
       "1  ds102     80\n",
       "2  ds103     60\n",
       "3  ds104     50\n",
       "4  ds105    100"
      ]
     },
     "execution_count": 3,
     "metadata": {},
     "output_type": "execute_result"
    }
   ],
   "source": [
    "kyoto_1_score = pd.read_csv('dataset/data1_score.csv')\n",
    "kyoto_1_score.head(5)"
   ]
  },
  {
   "cell_type": "code",
   "execution_count": 4,
   "metadata": {},
   "outputs": [],
   "source": [
    "kyoto_1_all = pd.read_csv('dataset/dataset1_features.csv')\n",
    "kyoto_1_p1 = pd.read_csv('dataset/total01_1213.csv')\n",
    "kyoto_1_p2 = pd.read_csv('dataset/total01_0123~0124.csv')\n",
    "kyoto_1_p3 = pd.read_csv('dataset/total01_1122.csv')"
   ]
  },
  {
   "cell_type": "markdown",
   "metadata": {},
   "source": [
    "# Merge Datasets"
   ]
  },
  {
   "cell_type": "code",
   "execution_count": 5,
   "metadata": {
    "scrolled": false
   },
   "outputs": [],
   "source": [
    "kyoto_x_all = pd.merge(kyoto_1_all, kyoto_1_score, on='userid')\n",
    "kyoto_x_1 = pd.merge(kyoto_1_p1, kyoto_1_score, on='userid')\n",
    "kyoto_x_2 = pd.merge(kyoto_1_p2, kyoto_1_score, on='userid')\n",
    "kyoto_x_3 = pd.merge(kyoto_1_p3, kyoto_1_score, on='userid')"
   ]
  },
  {
   "cell_type": "code",
   "execution_count": 6,
   "metadata": {
    "scrolled": false
   },
   "outputs": [
    {
     "data": {
      "text/plain": [
       "set()"
      ]
     },
     "execution_count": 6,
     "metadata": {},
     "output_type": "execute_result"
    }
   ],
   "source": [
    "kyoto_x_p = kyoto_x_1.append([kyoto_x_2, kyoto_x_3])\n",
    "kyoto_x_p.rename(index=str, columns={\"ADD BOOKMARK\": \"Add_BookmarkC\"}, inplace=True)\n",
    "kyoto_x_p.rename(index=str, columns={\"CLOSE\": \"closec\"}, inplace=True)\n",
    "kyoto_x_p.rename(index=str, columns={\"MARKERC\": \"markerc\"}, inplace=True)\n",
    "kyoto_x_p.rename(index=str, columns={\"MEMOC\": \"memoc\"}, inplace=True)\n",
    "kyoto_x_p.rename(index=str, columns={\"OPEN\": \"openc\"}, inplace=True)\n",
    "kyoto_x_p.rename(index=str, columns={\"PAGE_JUMP\": \"Page_JumpC\"}, inplace=True)\n",
    "kyoto_x_p.rename(index=str, columns={\"mobile\": \"mobilec\"}, inplace=True)\n",
    "kyoto_x_p.rename(index=str, columns={\"pc\": \"pcc\"}, inplace=True)\n",
    "kyoto_x_p.rename(index=str, columns={\"tablet\": \"tabletc\"}, inplace=True)\n",
    "set(kyoto_x_p) - set(kyoto_x_all)"
   ]
  },
  {
   "cell_type": "code",
   "execution_count": 7,
   "metadata": {
    "scrolled": false
   },
   "outputs": [],
   "source": [
    "#kyoto_1 = kyoto_x_all\n",
    "#kyoto_1 = kyoto_x_p\n",
    "kyoto_1 = pd.concat([kyoto_x_all, kyoto_x_p])\n",
    "kyoto_1.fillna(0.0, inplace=True)\n",
    "kyoto_1 = kyoto_1.drop(['userid'], axis=1)\n",
    "\n",
    "#list(kyoto_1)[11]\n",
    "\n",
    "kyoto_1 = kyoto_1.drop([list(kyoto_1)[14]], axis=1)"
   ]
  },
  {
   "cell_type": "markdown",
   "metadata": {},
   "source": [
    "# Preprocess"
   ]
  },
  {
   "cell_type": "code",
   "execution_count": 8,
   "metadata": {},
   "outputs": [
    {
     "data": {
      "text/plain": [
       "<matplotlib.axes._subplots.AxesSubplot at 0x7fbdd3b11fd0>"
      ]
     },
     "execution_count": 8,
     "metadata": {},
     "output_type": "execute_result"
    },
    {
     "data": {
      "image/png": "[encoded data removed]",
      "text/plain": [
       "<Figure size 432x288 with 1 Axes>"
      ]
     },
     "metadata": {},
     "output_type": "display_data"
    }
   ],
   "source": [
    "\n",
    "outlier = 3\n",
    "kyoto_1 = kyoto_1[np.abs(kyoto_1.pcc-kyoto_1.pcc.mean()) <= (outlier * kyoto_1.pcc.std())]\n",
    "kyoto_1 = kyoto_1[np.abs(kyoto_1.tabletc-kyoto_1.tabletc.mean()) <= (outlier * kyoto_1.tabletc.std())]\n",
    "#kyoto_1 = (kyoto_1 - kyoto_1.mean()) / (kyoto_1.max() - kyoto_1.min())\n",
    "kyoto_1.plot.box(sym='r+')"
   ]
  },
  {
   "cell_type": "code",
   "execution_count": 9,
   "metadata": {},
   "outputs": [],
   "source": [
    "\n",
    "kyoto_y = kyoto_1['score']\n",
    "kyoto_x = kyoto_1.drop(['score'], axis=1)"
   ]
  },
  {
   "cell_type": "markdown",
   "metadata": {},
   "source": [
    "# Train Model"
   ]
  },
  {
   "cell_type": "code",
   "execution_count": 10,
   "metadata": {},
   "outputs": [],
   "source": [
    "xgb2 = XGBRegressor(n_estimators=100, \n",
    "                    learning_rate=0.08, \n",
    "                    gamma=0, \n",
    "                    subsample=0.75,\n",
    "                    colsample_bytree=0.8, \n",
    "                    max_depth=5)"
   ]
  },
  {
   "cell_type": "code",
   "execution_count": 11,
   "metadata": {},
   "outputs": [],
   "source": [
    "mlp = MLPRegressor(hidden_layer_sizes=(2,),\n",
    "                   activation='relu',\n",
    "                   solver='adam',\n",
    "                   learning_rate='adaptive',\n",
    "                   max_iter=1000,\n",
    "                   learning_rate_init=0.01,\n",
    "                   alpha=0.01)"
   ]
  },
  {
   "cell_type": "code",
   "execution_count": 12,
   "metadata": {},
   "outputs": [
    {
     "name": "stderr",
     "output_type": "stream",
     "text": [
      "/usr/local/lib/python3.4/dist-packages/sklearn/neural_network/multilayer_perceptron.py:564: ConvergenceWarning: Stochastic Optimizer: Maximum iterations (1000) reached and the optimization hasn't converged yet.\n",
      "  % self.max_iter, ConvergenceWarning)\n",
      "/usr/local/lib/python3.4/dist-packages/sklearn/neural_network/multilayer_perceptron.py:564: ConvergenceWarning: Stochastic Optimizer: Maximum iterations (1000) reached and the optimization hasn't converged yet.\n",
      "  % self.max_iter, ConvergenceWarning)\n",
      "/usr/local/lib/python3.4/dist-packages/sklearn/neural_network/multilayer_perceptron.py:564: ConvergenceWarning: Stochastic Optimizer: Maximum iterations (1000) reached and the optimization hasn't converged yet.\n",
      "  % self.max_iter, ConvergenceWarning)\n",
      "/usr/local/lib/python3.4/dist-packages/sklearn/neural_network/multilayer_perceptron.py:564: ConvergenceWarning: Stochastic Optimizer: Maximum iterations (1000) reached and the optimization hasn't converged yet.\n",
      "  % self.max_iter, ConvergenceWarning)\n",
      "/usr/local/lib/python3.4/dist-packages/sklearn/neural_network/multilayer_perceptron.py:564: ConvergenceWarning: Stochastic Optimizer: Maximum iterations (1000) reached and the optimization hasn't converged yet.\n",
      "  % self.max_iter, ConvergenceWarning)\n",
      "/usr/local/lib/python3.4/dist-packages/sklearn/neural_network/multilayer_perceptron.py:564: ConvergenceWarning: Stochastic Optimizer: Maximum iterations (1000) reached and the optimization hasn't converged yet.\n",
      "  % self.max_iter, ConvergenceWarning)\n",
      "/usr/local/lib/python3.4/dist-packages/sklearn/neural_network/multilayer_perceptron.py:564: ConvergenceWarning: Stochastic Optimizer: Maximum iterations (1000) reached and the optimization hasn't converged yet.\n",
      "  % self.max_iter, ConvergenceWarning)\n"
     ]
    }
   ],
   "source": [
    "mse_xgb_list = []\n",
    "mse_pcx_list = []\n",
    "mse_ols_list = []\n",
    "mse_svr_list = []\n",
    "mse_mlp_list = []\n",
    "mse_pcr_list = []\n",
    "mse_regr_list = []\n",
    "\n",
    "for i in range(0, 30):\n",
    "    X_train, X_test, y_train, y_test = train_test_split(kyoto_x, kyoto_y, test_size=0.3)\n",
    "    \n",
    "    # XGBoost\n",
    "    xgb2.fit(X_train, y_train)\n",
    "    xgr_pred_y = xgb2.predict(X_test)\n",
    "    mse_xgb_list.append(sqrt(mean_squared_error(y_test, xgr_pred_y)))\n",
    "    \n",
    "    # PCX\n",
    "    pca = PCA(n_components=11)# adjust yourself\n",
    "    pca.fit(X_train)\n",
    "    X_pca_train = pca.transform(X_train)\n",
    "    X_pca_test = pca.transform(X_test)    \n",
    "    xgb2.fit(X_pca_train, y_train)\n",
    "    pcx_pred_y = xgb2.predict(X_pca_test)\n",
    "    mse_pcx_list.append(sqrt(mean_squared_error(y_test, pcx_pred_y)))\n",
    "    \n",
    "    # Random Forest Regressor\n",
    "    regr = RandomForestRegressor(max_depth=5, random_state=0)\n",
    "    regr.fit(X_train, y_train)\n",
    "    regr_pred_y = regr.predict(X_test)\n",
    "    mse_regr_list.append(sqrt(mean_squared_error(y_test, regr_pred_y)))\n",
    "    \n",
    "    # linear regression\n",
    "    ols_model = sm.OLS(endog=y_train, exog=X_train, missing='drop')\n",
    "    ols_model = ols_model.fit()\n",
    "    ols_pred_y = ols_model.predict(exog=X_test)\n",
    "    mse_ols_list.append(sqrt(mean_squared_error(y_test, ols_pred_y)))\n",
    "    \n",
    "    # support vector regression\n",
    "    clf = SVR(C=1.0, epsilon=0.2)\n",
    "    svr_model = clf.fit(X_train, y_train) \n",
    "    svr_pred_y = svr_model.predict(X_test)\n",
    "    mse_svr_list.append(sqrt(mean_squared_error(y_test, svr_pred_y)))\n",
    "    \n",
    "    # Multi-layer Perceptron regressor\n",
    "    mlp_model = mlp.fit(X_train, y_train)\n",
    "    mlp_pred_y = mlp_model.predict(X_test)\n",
    "    mse_mlp_list.append(sqrt(mean_squared_error(y_test, mlp_pred_y)))\n",
    "    \n",
    "    # Princple Componment Regression\n",
    "    pca = PCA(n_components=11)# adjust yourself\n",
    "    pca.fit(X_train)\n",
    "    X_pca_train = pca.transform(X_train)\n",
    "    X_pca_test = pca.transform(X_test)\n",
    "    pcr_model = sm.OLS(endog=y_train, exog=X_pca_train, missing='drop')\n",
    "    pcr_model = pcr_model.fit()\n",
    "    pcr_pred_y = pcr_model.predict(exog=X_pca_test)\n",
    "    mse_pcr_list.append(sqrt(mean_squared_error(y_test, pcr_pred_y)))\n"
   ]
  },
  {
   "cell_type": "markdown",
   "metadata": {},
   "source": [
    "# Boxplot"
   ]
  },
  {
   "cell_type": "code",
   "execution_count": 13,
   "metadata": {},
   "outputs": [
    {
     "name": "stderr",
     "output_type": "stream",
     "text": [
      "/usr/local/lib/python3.4/dist-packages/matplotlib/axes/_base.py:3449: UserWarning: Attempted to set non-positive ylimits for log-scale axis; invalid limits will be ignored.\n",
      "  'Attempted to set non-positive ylimits for log-scale axis; '\n"
     ]
    },
    {
     "data": {
      "text/plain": [
       "[Text(0,0,'XGBoost'),\n",
       " Text(0,0,'PCXGBoox'),\n",
       " Text(0,0,'RFR'),\n",
       " Text(0,0,'SVR'),\n",
       " Text(0,0,'ANN'),\n",
       " Text(0,0,'MLR'),\n",
       " Text(0,0,'PCR')]"
      ]
     },
     "execution_count": 13,
     "metadata": {},
     "output_type": "execute_result"
    },
    {
     "data": {
      "image/png": "[encoded data removed]",
      "text/plain": [
       "<Figure size 1296x576 with 1 Axes>"
      ]
     },
     "metadata": {},
     "output_type": "display_data"
    }
   ],
   "source": [
    "matplotlib.rcParams.update({'font.size': 18})\n",
    "\n",
    "fig1, ax1 = plt.subplots(figsize=(18, 8))\n",
    "ax1.set_title('RMSE')\n",
    "box_data = [mse_xgb_list, mse_pcx_list, mse_regr_list, mse_svr_list, mse_mlp_list, mse_ols_list, mse_pcr_list]\n",
    "\n",
    "ax1.set_yscale('log')\n",
    "ax1.boxplot(box_data)\n",
    "ax1.set_ylim([-100, 1000])\n",
    "ax1.set_xticklabels(['XGBoost', \n",
    "                     'PCXGBoox', \n",
    "                     'RFR', \n",
    "                     'SVR', \n",
    "                     'ANN', \n",
    "                     'MLR', \n",
    "                     'PCR'], rotation=45)"
   ]
  },
  {
   "cell_type": "code",
   "execution_count": 14,
   "metadata": {},
   "outputs": [
    {
     "data": {
      "text/plain": [
       "25.086933209818593"
      ]
     },
     "execution_count": 14,
     "metadata": {},
     "output_type": "execute_result"
    }
   ],
   "source": [
    "sum(mse_xgb_list) / len(mse_xgb_list)"
   ]
  },
  {
   "cell_type": "code",
   "execution_count": null,
   "metadata": {},
   "outputs": [],
   "source": []
  }
 ],
 "metadata": {
  "kernelspec": {
   "display_name": "Python 3",
   "language": "python",
   "name": "python3"
  },
  "language_info": {
   "codemirror_mode": {
    "name": "ipython",
    "version": 3
   },
   "file_extension": ".py",
   "mimetype": "text/x-python",
   "name": "python",
   "nbconvert_exporter": "python",
   "pygments_lexer": "ipython3",
   "version": "3.4.3"
  }
 },
 "nbformat": 4,
 "nbformat_minor": 2
}
